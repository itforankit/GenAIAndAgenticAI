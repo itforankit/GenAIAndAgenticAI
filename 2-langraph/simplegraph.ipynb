{
 "cells": [
  {
   "cell_type": "markdown",
   "metadata": {},
   "source": [
    "### State\n",
    "First, define the State of the graph.\n",
    "\n",
    "The State schema serves as the input schema for all Nodes and Edges in the graph.\n",
    "\n",
    "Let's use the TypedDict class from python's typing module as our schema, which provides type hints for the keys."
   ]
  },
  {
   "cell_type": "code",
   "execution_count": null,
   "metadata": {},
   "outputs": [],
   "source": [
    "from typing_extensions import TypedDict\n",
    "class State(TypedDict):\n",
    "    graph_state:str\n"
   ]
  },
  {
   "cell_type": "markdown",
   "metadata": {},
   "source": [
    "#### Nodes\n",
    "Nodes are just python functions.\n",
    "\n",
    "The first positional argument is the state, as defined above.\n",
    "\n",
    "Because the state is a TypedDict with schema as defined above, each node can access the key, graph_state, with state['graph_state'].\n",
    "\n",
    "Each node returns a new value of the state key graph_state.\n",
    "\n",
    "By default, the new value returned by each node will override the prior state value."
   ]
  },
  {
   "cell_type": "code",
   "execution_count": null,
   "metadata": {},
   "outputs": [],
   "source": [
    "def first_node(state):\n",
    "    print(\"My First Node is called\")\n",
    "    return {\"graph_state\":state['graph_state']+\"I am playing\"}\n",
    "\n",
    "def second_node(state):\n",
    "    print(\"My Second Node is called\")\n",
    "    return {\"graph_state\":state['graph_state']+\" Cricket\"}\n",
    "\n",
    "\n",
    "def third_node(state):\n",
    "    print(\"My Third Node is called\")\n",
    "    return {\"graph_state\":state['graph_state']+\" Badminton\"}\n"
   ]
  },
  {
   "cell_type": "markdown",
   "metadata": {},
   "source": [
    "#### Edges\n",
    "Edges connect the nodes.\n",
    "\n",
    "Normal Edges are used if you want to always go from, for example, node_1 to node_2.\n",
    "\n",
    "Conditional Edges are used if you want to optionally route between nodes.\n",
    "\n",
    "Conditional edges are implemented as functions that return the next node to visit based upon some logic."
   ]
  },
  {
   "cell_type": "code",
   "execution_count": null,
   "metadata": {},
   "outputs": [],
   "source": [
    "import random\n",
    "from typing import Literal\n",
    "\n",
    "def decide_play(state)->Literal['second_node','third_node']:\n",
    "    graph_state=state['graph_state']\n",
    "\n",
    "    if random.random()<0.5:\n",
    "        return \"second_node\"\n",
    "    \n",
    "    return \"third_node\"\n"
   ]
  },
  {
   "cell_type": "markdown",
   "metadata": {},
   "source": [
    "## Graph \n"
   ]
  },
  {
   "cell_type": "markdown",
   "metadata": {},
   "source": [
    "#### Graph Construction\n",
    "Now, we build the graph from our components defined above.\n",
    "\n",
    "The StateGraph class is the graph class that we can use.\n",
    "\n",
    "First, we initialize a StateGraph with the State class we defined above.\n",
    "\n",
    "Then, we add our nodes and edges.\n",
    "\n",
    "We use the START Node, a special node that sends user input to the graph, to indicate where to start our graph.\n",
    "\n",
    "The END Node is a special node that represents a terminal node.\n",
    "\n",
    "Finally, we compile our graph to perform a few basic checks on the graph structure.\n",
    "\n",
    "We can visualize the graph as a Mermaid diagram."
   ]
  },
  {
   "cell_type": "code",
   "execution_count": null,
   "metadata": {},
   "outputs": [],
   "source": [
    "from IPython.display import Image, display\n",
    "from langgraph.graph import StateGraph, START, END\n",
    "\n",
    "## Build Graph\n",
    "builder=StateGraph(State)\n",
    "\n",
    "builder.add_node(\"first_node\",first_node)\n",
    "builder.add_node(\"second_node\",second_node)\n",
    "builder.add_node(\"third_node\",third_node)\n",
    "\n",
    "## Logic\n",
    "builder.add_edge(START,\"first_node\")\n",
    "builder.add_conditional_edges(\"first_node\",decide_play)\n",
    "builder.add_edge(\"second_node\",END)\n",
    "builder.add_edge(\"third_node\",END)\n",
    "\n",
    "## Add\n",
    "graph=builder.compile()\n",
    "\n",
    "## View\n",
    "display(Image(graph.get_graph().draw_mermaid_png()))\n"
   ]
  },
  {
   "cell_type": "markdown",
   "metadata": {},
   "source": [
    "### Graph Invocation\n",
    "The compiled graph implements the runnable protocol.\n",
    "\n",
    "This provides a standard way to execute LangChain components.\n",
    "\n",
    "invoke is one of the standard methods in this interface.\n",
    "\n",
    "The input is a dictionary {\"graph_state\": \"Hi, this is lance.\"}, which sets the initial value for our graph state dict.\n",
    "\n",
    "When invoke is called, the graph starts execution from the START node.\n",
    "\n",
    "It progresses through the defined nodes (node_1, node_2, node_3) in order.\n",
    "\n",
    "The conditional edge will traverse from node 1 to node 2 or 3 using a 50/50 decision rule.\n",
    "\n",
    "Each node function receives the current state and returns a new value, which overrides the graph state.\n",
    "\n",
    "The execution continues until it reaches the END node."
   ]
  },
  {
   "cell_type": "code",
   "execution_count": null,
   "metadata": {},
   "outputs": [],
   "source": [
    "graph.invoke({\"graph_state\":\"Hi,My name is Krish,\"})"
   ]
  },
  {
   "cell_type": "markdown",
   "metadata": {},
   "source": [
    "### Basic Chatbot"
   ]
  },
  {
   "cell_type": "code",
   "execution_count": 1,
   "metadata": {},
   "outputs": [],
   "source": [
    "from typing import Annotated\n",
    "\n",
    "from typing_extensions import TypedDict\n",
    "\n",
    "from langgraph.graph import StateGraph, START, END\n",
    "from langgraph.graph.message import add_messages"
   ]
  },
  {
   "cell_type": "code",
   "execution_count": 2,
   "metadata": {},
   "outputs": [],
   "source": [
    "class State(TypedDict):\n",
    "    messages:Annotated[list,add_messages]\n"
   ]
  },
  {
   "cell_type": "code",
   "execution_count": 3,
   "metadata": {},
   "outputs": [],
   "source": [
    "graph_builder=StateGraph(State)"
   ]
  },
  {
   "cell_type": "code",
   "execution_count": 4,
   "metadata": {},
   "outputs": [],
   "source": [
    "import os\n",
    "from dotenv import load_dotenv\n",
    "\n",
    "load_dotenv()\n",
    "os.environ[\"GROQ_API_KEY\"]=os.getenv(\"GROQ_API_KEY\")"
   ]
  },
  {
   "cell_type": "code",
   "execution_count": 5,
   "metadata": {},
   "outputs": [
    {
     "data": {
      "text/plain": [
       "ChatGroq(client=<groq.resources.chat.completions.Completions object at 0x000001A6EE6FD040>, async_client=<groq.resources.chat.completions.AsyncCompletions object at 0x000001A6EE844170>, model_name='gemma2-9b-it', model_kwargs={}, groq_api_key=SecretStr('**********'))"
      ]
     },
     "execution_count": 5,
     "metadata": {},
     "output_type": "execute_result"
    }
   ],
   "source": [
    "from langchain_groq import ChatGroq\n",
    "llm=ChatGroq(model=\"gemma2-9b-it\")\n",
    "llm"
   ]
  },
  {
   "cell_type": "code",
   "execution_count": 6,
   "metadata": {},
   "outputs": [],
   "source": [
    "def chatbot(state:State):\n",
    "    return {\"messages\":[llm.invoke(state[\"messages\"])]}"
   ]
  },
  {
   "cell_type": "code",
   "execution_count": 7,
   "metadata": {},
   "outputs": [],
   "source": [
    "graph_builder.add_node(\"chatbot\",chatbot)\n",
    "graph_builder.add_edge(START, \"chatbot\")\n",
    "graph_builder.add_edge(\"chatbot\", END)\n",
    "graph = graph_builder.compile()\n"
   ]
  },
  {
   "cell_type": "code",
   "execution_count": 8,
   "metadata": {},
   "outputs": [
    {
     "data": {
      "image/png": "[encoded data removed]",
      "text/plain": [
       "<IPython.core.display.Image object>"
      ]
     },
     "metadata": {},
     "output_type": "display_data"
    }
   ],
   "source": [
    "from IPython.display import Image, display\n",
    "display(Image(graph.get_graph().draw_mermaid_png()))"
   ]
  },
  {
   "cell_type": "code",
   "execution_count": 9,
   "metadata": {},
   "outputs": [],
   "source": [
    "def stream_graph_updates(user_input: str):\n",
    "    for event in graph.stream({\"messages\": [{\"role\": \"user\", \"content\": user_input}]}):\n",
    "        for value in event.values():\n",
    "            print(\"Assistant:\", value[\"messages\"][-1].content)"
   ]
  },
  {
   "cell_type": "code",
   "execution_count": 10,
   "metadata": {},
   "outputs": [
    {
     "name": "stdout",
     "output_type": "stream",
     "text": [
      "Assistant: Hi there! 👋\n",
      "\n",
      "What can I do for you today? 😊\n",
      "\n",
      "Assistant: Donald Trump is a highly polarizing figure in American politics and popular culture.  \n",
      "\n",
      "**Here are some key facts about him:**\n",
      "\n",
      "* **Early Life and Career:** Born in New York City in 1946, he inherited a real estate business from his father and became a prominent developer. He also ventured into other businesses, including casinos and entertainment, often garnering attention for his flamboyant personality and outspoken style.\n",
      "\n",
      "* **Politics:** He entered politics in 2015 as a Republican candidate for President of the United States. His campaign focused on populist themes such as \"Make America Great Again,\" appealing to voters who felt marginalized by the political establishment.\n",
      "\n",
      "* **Presidency (2017-2021):** He won the 2016 presidential election against Hillary Clinton, becoming the 45th President of the United States. His presidency was marked by:\n",
      "\n",
      "    * **Controversial policies:**  Tax cuts, deregulation, immigration restrictions, and the withdrawal from international agreements like the Paris Climate Accord and the Iran nuclear deal.\n",
      "    * **Highly partisan and divisive rhetoric:**  Frequent attacks on opponents, the media, and minority groups.\n",
      "    * **Impeachment:** He was impeached by the House of Representatives twice, once for abuse of power and obstruction of Congress, and again for inciting the January 6th insurrection at the U.S. Capitol. He was acquitted by the Senate both times.\n",
      "    * **COVID-19 Pandemic:** His administration's handling of the pandemic was widely criticized.\n",
      "\n",
      "* **Post-Presidency:** He remains a prominent figure in the Republican Party and continues to hold rallies and make public appearances. He is facing multiple legal investigations, including for his role in the January 6th insurrection.\n",
      "\n",
      "\n",
      "**It's important to note:**\n",
      "\n",
      "* Donald Trump's presidency and legacy are subject to intense debate and differing perspectives. \n",
      "* His supporters view him as a strong leader who fought for American interests, while his critics see him as a demagogue who damaged American democracy.\n",
      "* To form your own informed opinion, it is crucial to consult a variety of sources, consider different perspectives, and critically evaluate the information presented.\n",
      "\n",
      "Assistant: Donald John Trump is an American businessman, media personality, and politician who served as the 45th president of the United States from 2017 to 2021. \n",
      "\n",
      "Here are some key points about him:\n",
      "\n",
      "* **Business Career:** Before entering politics, Trump was a prominent figure in the real estate industry and built a career as a businessman and television personality. He is known for his high-profile ventures, including the Trump Tower skyscraper in New York City and the Miss Universe pageant.\n",
      "\n",
      "* **Media Personality:** Trump gained widespread recognition through his reality television show, \"The Apprentice,\" where he served as the host and used his catchphrase \"You're fired!\"\n",
      "\n",
      "* **Political Career:** Trump entered the political arena as a Republican and campaigned on a populist platform that appealed to voters who felt left behind by globalization and economic change. He won the 2016 presidential election, defeating Democratic nominee Hillary Clinton.\n",
      "\n",
      "* **Presidency:** Trump's presidency was marked by controversy and division. He implemented policies such as tax cuts, deregulation, and a travel ban on citizens from several Muslim-majority countries. He also withdrew the United States from the Trans-Pacific Partnership trade agreement and the Paris Agreement on climate change.\n",
      "\n",
      "* **Post-Presidency:** After losing the 2020 presidential election to Joe Biden, Trump continued to make claims of widespread voter fraud, despite no evidence to support these allegations. He remains a influential figure in the Republican Party and continues to be a subject of intense public scrutiny.\n",
      "\n",
      "\n",
      "Donald Trump is a complex and polarizing figure who has had a profound impact on American politics and society. His legacy is likely to be debated for years to come.\n",
      "\n",
      "\n",
      "Goodbye!\n"
     ]
    }
   ],
   "source": [
    "while True:\n",
    "    try:\n",
    "        user_input = input(\"User: \")\n",
    "        if user_input.lower() in [\"quit\", \"exit\", \"q\"]:\n",
    "            print(\"Goodbye!\")\n",
    "            break\n",
    "\n",
    "        stream_graph_updates(user_input)\n",
    "    except:\n",
    "        # fallback if input() is not available\n",
    "        user_input = \"What do you know about LangGraph?\"\n",
    "        print(\"User: \" + user_input)\n",
    "        stream_graph_updates(user_input)\n",
    "        break"
   ]
  },
  {
   "cell_type": "code",
   "execution_count": null,
   "metadata": {},
   "outputs": [],
   "source": []
  }
 ],
 "metadata": {
  "kernelspec": {
   "display_name": "Python 3",
   "language": "python",
   "name": "python3"
  },
  "language_info": {
   "codemirror_mode": {
    "name": "ipython",
    "version": 3
   },
   "file_extension": ".py",
   "mimetype": "text/x-python",
   "name": "python",
   "nbconvert_exporter": "python",
   "pygments_lexer": "ipython3",
   "version": "3.12.9"
  }
 },
 "nbformat": 4,
 "nbformat_minor": 2
}
