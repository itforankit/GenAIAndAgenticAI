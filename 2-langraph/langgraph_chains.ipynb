{
 "cells": [
  {
   "cell_type": "markdown",
   "metadata": {},
   "source": [
    "### Chain\n",
    "Review\n",
    "We built a simple graph with nodes, normal edges, and conditional edges.\n",
    "\n",
    "Goals\n",
    "Now, let's build up to a simple chain that combines 4 concepts:\n",
    "\n",
    "Using chat messages as our graph state\n",
    "Using chat models in graph nodes\n",
    "Binding tools to our chat model\n",
    "Executing tool calls in graph nodes"
   ]
  },
  {
   "cell_type": "code",
   "execution_count": 1,
   "metadata": {},
   "outputs": [
    {
     "name": "stdout",
     "output_type": "stream",
     "text": [
      "==================================\u001b[1m Ai Message \u001b[0m==================================\n",
      "Name: Model\n",
      "\n",
      "So you said you were researching ocean mammals?\n",
      "================================\u001b[1m Human Message \u001b[0m=================================\n",
      "Name: Ankit\n",
      "\n",
      "Yes, that's right.\n",
      "==================================\u001b[1m Ai Message \u001b[0m==================================\n",
      "Name: Model\n",
      "\n",
      "Great, what would you like to learn about.\n",
      "================================\u001b[1m Human Message \u001b[0m=================================\n",
      "Name: Ankit\n",
      "\n",
      "I want to learn about the best place to see Orcas in the US.\n"
     ]
    }
   ],
   "source": [
    "from pprint import pprint\n",
    "from langchain_core.messages import AIMessage, HumanMessage\n",
    "\n",
    "messages = [AIMessage(content=f\"So you said you were researching ocean mammals?\", name=\"Model\")]\n",
    "messages.append(HumanMessage(content=f\"Yes, that's right.\",name=\"Ankit\"))\n",
    "messages.append(AIMessage(content=f\"Great, what would you like to learn about.\", name=\"Model\"))\n",
    "messages.append(HumanMessage(content=f\"I want to learn about the best place to see Orcas in the US.\", name=\"Ankit\"))\n",
    "\n",
    "for m in messages:\n",
    "    m.pretty_print()"
   ]
  },
  {
   "cell_type": "code",
   "execution_count": 2,
   "metadata": {},
   "outputs": [],
   "source": [
    "import os\n",
    "from dotenv import load_dotenv\n",
    "load_dotenv()\n",
    "\n",
    "os.environ[\"GROQ_API_KEY\"]=os.getenv(\"GROQ_API_KEY\")"
   ]
  },
  {
   "cell_type": "code",
   "execution_count": 4,
   "metadata": {},
   "outputs": [
    {
     "data": {
      "text/plain": [
       "AIMessage(content='\\n<think>\\nOkay, the user wants to know the best places in the US to see orcas. Let me start by recalling where orcas are commonly found. I know they\\'re widespread, but in the US, certain regions are famous for orca sightings.\\n\\nFirst, the Pacific Northwest comes to mind. Places like Washington and British Columbia have the orcas known as the Southern Residents. They\\'re well-known and there are many tour operators there. I should mention San Juan Island and the nearby areas. But wait, the user specified the US, so I should focus on Washington state rather than Canada, though it\\'s nearby.\\n\\nNext, Alaska is another prime location. I remember that orcas are frequently seen in the Inside Passage, Glacier Bay, and Kenai Fjords. The orcas there might be from different ecotypes, like the transient or resident populations. Alaska\\'s summer months are probably the best time for viewing.\\n\\nCalifornia might also be an option. There are orcas off the coast, but I\\'m not as sure about the frequency of sightings. Maybe places like Monterey Bay or the Channel Islands? However, I think California sightings might be less reliable than the PNW or Alaska. Maybe mention them but note that sightings are less predictable.\\n\\nTexas? Wait, do orcas come that far south? I need to check. I think there are offshore orcas, but maybe coastal areas like the Gulf of Mexico might have them occasionally. Maybe the user is interested in other marine life there too, but orcas might not be as common. Maybe not the best, but worth a mention if they\\'re asking for all US locations.\\n\\nHawaii is another thought. I\\'m not sure about orcas there. I know humpback whales are common, but orcas might pass through. Maybe not the best bet, but perhaps mention it briefly.\\n\\nNow, considering time of year. Orcas have seasonal migrations. In the Pacific Northwest, they\\'re most active in summer, April to October, with peak July-September. Alaska\\'s season is similar, maybe a bit later. California might have different timings.\\n\\nAlso, the type of orcas matters. The Southern Residents in Washington are an endangered population, so tours there need to follow strict regulations. Alaska\\'s populations might be different, so the experience could vary.\\n\\nI should also consider accessibility. Washington has many tour companies and is a well-established spot. Alaska requires a bit more travel, maybe cruises or boat tours. California might have boat trips but with less certainty.\\n\\nWait, the user asked for the \"best place,\" so I should prioritize the most reliable spots first. San Juan Islands and Alaska would be top choices. Then maybe mention others as alternatives.\\n\\nPossible mistakes: Confusing transient vs. resident pods. Transient orcas might be more solitary, but resident pods are better for viewing. Also, making sure not to include Canadian locations unless they\\'re part of a US-based tour.\\n\\nI should structure the answer by listing the top locations with details on each, including best times, how to see them, and any important notes like regulations or conservation info. Also, include tips like booking tours in advance, best months, and the chance of seeing them.\\n\\nWait, the user might also be interested in other factors like ease of access, cost, or other marine life. Maybe mention that Alaska also offers other wildlife like humpbacks and bears. Also, environmental impact of tours is important, so recommending eco-friendly tours.\\n\\nLet me outline the key points:\\n\\n1. Pacific Northwest (Washington):\\n   - San Juan Islands\\n   - Best time: April to October, peak July-September\\n   - Southern Resident orcas (endangered)\\n   - Tours from Anacortes, Friday Harbor\\n   - Regulations to keep boats a certain distance\\n\\n2. Alaska:\\n   - Inside Passage (Glacier Bay, Juneau, Kenai Fjords)\\n   - Tour boats and cruises\\n   - July to September, different ecotypes\\n   - More guaranteed sightings?\\n\\n3. California:\\n   - Monterey Bay, Channel Islands\\n   - Less reliable, but possible\\n\\n4. Texas:\\n   - Offshore, less common, maybe in winter?\\n\\nWait, I\\'m not sure about Texas. Maybe the Gulf of Mexico has some orcas, but they might not be as frequent. Maybe better to focus on the top two and mention California and others as secondary.\\n\\nAlso, Hawaii: Orcas do pass through Hawaiian waters, but sightings are rare. So maybe not worth emphasizing but mention briefly?\\n\\nI should also check if there are any other notable spots. Maybe Oregon or somewhere else? Not sure. Probably stick to the main areas.\\n\\nIncluding tips: Book tours in advance, check for responsible operators, mention the difference between resident and transient pods.\\n\\nDouble-check the Southern Residents\\' status as endangered. Yes, they\\'re listed as endangered under the Endangered Species Act.\\n\\nAlso, mention the difference between different ecotypes in Alaska, like residents, transients, and offshore, but maybe simplify for the user.\\n\\nOkay, putting it all together: Start with the top spots, give details, best times, how to see them, and other info. Make sure to highlight the PNW as the best, then Alaska as another top choice, and others as alternatives.\\n</think>\\n\\nThe best places in the U.S. to see orcas (killer whales) depend on the time of year, the orca ecotype you\\'re hoping to see, and the type of experience you prefer. Here’s a breakdown of the top spots and key details:\\n\\n---\\n\\n### **1. Pacific Northwest (Washington State)**\\n#### **Best Locations:**\\n- **San Juan Islands (Friday Harbor, Orcas Island, Shaw Island)**  \\n  - The **Southern Resident orcas** (a distinct population of orcas) are most famously seen here.  \\n  - These orcas are endangered and follow seasonal salmon migrations.  \\n\\n#### **Best Time to Visit:**  \\n  - **April to October**, with peak sightings from **July to September** when salmon runs are active.  \\n\\n#### **How to See Them:**  \\n  - Book a **whale-watching tour** from Anacortes, Friday Harbor, or other local marinas.  \\n  - Boat-based tours (e.g., San Juan Safaris, Orca Behavior Institute) offer the best chance.  \\n\\n#### **Notes:**  \\n  - Regulations require boats to stay at least **200 yards away** from orcas to minimize disturbance.  \\n  - You may also see harbor seals, humpback whales, and bald eagles.  \\n\\n---\\n\\n### **2. Alaska (Inside Passage)**\\n#### **Best Locations:**  \\n  - **Glacier Bay National Park**, **Juneau**, **Kenai Fjords**, and **Prince William Sound**  \\n  - Orcas here include **transient pods** (which eat marine mammals) and **resident pods** (fish-eaters).  \\n\\n#### **Best Time to Visit:**  \\n  - **June to September**, with peak activity in July and August.  \\n\\n#### **How to See Them:**  \\n  - Take a **small-ship cruise** or **day trip** from Juneau or Seward.  \\n  - Larger cruise ships in the area also often spot them.  \\n  - **Kayak tours** offer a quiet, nature-based experience.  \\n\\n#### **Notes:**  \\n  - Alaska offers a higher likelihood of sightings due to the abundance of food.  \\n  - You may also encounter humpbacks, porpoises, and glaciers.  \\n\\n---\\n\\n### **3. California (Less Reliable but Possible)**\\n#### **Best Locations:**  \\n  - **Monterey Bay**, **Channel Islands**, or along the central/northern coasts.  \\n  - **Offshore orcas** (which feed on sharks and other fish) occasionally pass by.  \\n\\n#### **Best Time to Visit:**  \\n  - Sightings are **seasonal and less predictable**, but winter/spring (December–April) might offer better chances.  \\n\\n#### **How to See Them:**  \\n  - Join a **whale-watching tour** from Monterey, San Francisco, or Santa Barbara.  \\n  - **Boating in Channel Islands National Park** could yield sightings but requires more planning.  \\n\\n#### **Notes:**  \\n  - California orcas are less common than in the PNW or Alaska.  \\n\\n---\\n\\n### **4. Texas (Gulf of Mexico – Rare but Possible)**  \\n- **Where:** Offshore in the Gulf of Mexico (e.g., near the Flower Garden Banks Marine Sanctuary).  \\n- **Best Time:** Winter months (December–February).  \\n- **How to See:** Book a **deep-sea fishing or research boat tour** (sightings are rare and unpredictable).  \\n\\n---\\n\\n### **Other Options:**  \\n- **Oregon Coast**:偶见 orcas but less frequently than Washington.  \\n- **Hawaii**: Orcas are occasionally spotted, but sightings are very rare.  \\n\\n---\\n\\n### **Tips for Successful Viewing:**  \\n1. **Book Tours Early**: Popular tours in the PNW and Alaska fill up quickly.  \\n2. **Choose Eco-Friendly Operators**: Ensure tours follow NOAA regulations to protect orcas.  \\n3. **Be Patient**: Weather and orca behavior can affect sightings.  \\n4. **Combine with Other Wildlife**: Alaska and the PNW offer opportunities to see bears, whales, and seabirds.  \\n\\n---\\n\\n### **Top Recommendations:**  \\n- **For the Best Chance**: **San Juan Islands (Washington)** for the iconic Southern Residents (conservation-focused) or **Alaska’s Inside Passage** for reliable sightings and stunning scenery.  \\n- **For Adventure**: Alaska’s small-ship cruises or kayaking.  \\n\\nLet me know if you’d like specific tour recommendations or more details about orca behavior/conservation! 🐋', additional_kwargs={}, response_metadata={'token_usage': {'completion_tokens': 2008, 'prompt_tokens': 71, 'total_tokens': 2079, 'completion_time': 4.907911291, 'prompt_time': 0.006275115, 'queue_time': 0.24845174400000003, 'total_time': 4.914186406}, 'model_name': 'qwen-qwq-32b', 'system_fingerprint': 'fp_512a3da6bb', 'finish_reason': 'stop', 'logprobs': None}, id='run--60d6c09d-108d-481a-b028-9fc358ec527a-0', usage_metadata={'input_tokens': 71, 'output_tokens': 2008, 'total_tokens': 2079})"
      ]
     },
     "execution_count": 4,
     "metadata": {},
     "output_type": "execute_result"
    }
   ],
   "source": [
    "from langchain_groq import ChatGroq\n",
    "\n",
    "llm=ChatGroq(model=\"qwen-qwq-32b\")\n",
    "result=llm.invoke(messages)\n",
    "result"
   ]
  },
  {
   "cell_type": "code",
   "execution_count": 5,
   "metadata": {},
   "outputs": [],
   "source": [
    "def add(a:int,b:int)-> int:\n",
    "    \"\"\"Add a and b.\n",
    "\n",
    "    Args:\n",
    "        a: first int\n",
    "        b: second int\n",
    "    \"\"\"\n",
    "    return a+b"
   ]
  },
  {
   "cell_type": "code",
   "execution_count": 6,
   "metadata": {},
   "outputs": [],
   "source": [
    "llm_with_tools=llm.bind_tools([add])"
   ]
  },
  {
   "cell_type": "code",
   "execution_count": 7,
   "metadata": {},
   "outputs": [
    {
     "data": {
      "text/plain": [
       "AIMessage(content='', additional_kwargs={'tool_calls': [{'id': 'call_zeyr', 'function': {'arguments': '{\"a\": 2, \"b\": 3}', 'name': 'add'}, 'type': 'function'}]}, response_metadata={'token_usage': {'completion_tokens': 153, 'prompt_tokens': 178, 'total_tokens': 331, 'completion_time': 0.372279492, 'prompt_time': 0.011703617, 'queue_time': 0.480862733, 'total_time': 0.383983109}, 'model_name': 'qwen-qwq-32b', 'system_fingerprint': 'fp_512a3da6bb', 'finish_reason': 'tool_calls', 'logprobs': None}, id='run--eaf0664b-8ef2-4378-932d-d48f4fd479fe-0', tool_calls=[{'name': 'add', 'args': {'a': 2, 'b': 3}, 'id': 'call_zeyr', 'type': 'tool_call'}], usage_metadata={'input_tokens': 178, 'output_tokens': 153, 'total_tokens': 331})"
      ]
     },
     "execution_count": 7,
     "metadata": {},
     "output_type": "execute_result"
    }
   ],
   "source": [
    "tool_call=llm_with_tools.invoke([HumanMessage(content=f\"What is 2 plus 3\", name=\"Ankit\")])\n",
    "tool_call"
   ]
  },
  {
   "cell_type": "code",
   "execution_count": 8,
   "metadata": {},
   "outputs": [
    {
     "data": {
      "text/plain": [
       "[{'name': 'add',\n",
       "  'args': {'a': 2, 'b': 3},\n",
       "  'id': 'call_zeyr',\n",
       "  'type': 'tool_call'}]"
      ]
     },
     "execution_count": 8,
     "metadata": {},
     "output_type": "execute_result"
    }
   ],
   "source": [
    "tool_call.tool_calls"
   ]
  },
  {
   "cell_type": "code",
   "execution_count": 9,
   "metadata": {},
   "outputs": [],
   "source": [
    "from typing_extensions import TypedDict\n",
    "from langchain_core.messages import AnyMessage\n",
    "from typing import Annotated\n",
    "from langgraph.graph.message import add_messages\n",
    "\n",
    "class MessageState(TypedDict):\n",
    "    messages:Annotated[list[AnyMessage],add_messages]"
   ]
  },
  {
   "cell_type": "code",
   "execution_count": 10,
   "metadata": {},
   "outputs": [
    {
     "data": {
      "text/plain": [
       "[AIMessage(content='Hello! How can I assist you?', additional_kwargs={}, response_metadata={}, name='Model', id='c78fc3c9-465d-4400-b5b5-cb6cbcff8cb0'),\n",
       " HumanMessage(content=\"I'm looking for information on generative ai.\", additional_kwargs={}, response_metadata={}, name='Ankit', id='b14fc3d5-cc74-4053-b091-315614891ff9'),\n",
       " AIMessage(content='Sure, I can help with that. What specifically are you interested in?', additional_kwargs={}, response_metadata={}, name='Model', id='72c43743-50b6-42c6-8391-73e0d9749620')]"
      ]
     },
     "execution_count": 10,
     "metadata": {},
     "output_type": "execute_result"
    }
   ],
   "source": [
    "initial_message=[AIMessage(content=\"Hello! How can I assist you?\", name=\"Model\"),\n",
    "                    HumanMessage(content=\"I'm looking for information on generative ai.\", name=\"Ankit\")\n",
    "                   ]\n",
    "# New message to add\n",
    "new_message = AIMessage(content=\"Sure, I can help with that. What specifically are you interested in?\", name=\"Model\")\n",
    "\n",
    "add_messages(initial_message,new_message)"
   ]
  },
  {
   "cell_type": "code",
   "execution_count": 11,
   "metadata": {},
   "outputs": [
    {
     "data": {
      "image/png": "[encoded data removed]",
      "text/plain": [
       "<IPython.core.display.Image object>"
      ]
     },
     "metadata": {},
     "output_type": "display_data"
    }
   ],
   "source": [
    "from IPython.display import Image, display\n",
    "from langgraph.graph import StateGraph, START, END\n",
    "    \n",
    "# Node\n",
    "def tool_calling_llm(state: MessageState):\n",
    "    return {\"messages\": [llm_with_tools.invoke(state[\"messages\"])]}\n",
    "\n",
    "# Build graph\n",
    "builder = StateGraph(MessageState)\n",
    "builder.add_node(\"tool_calling_llm\", tool_calling_llm)\n",
    "builder.add_edge(START, \"tool_calling_llm\")\n",
    "builder.add_edge(\"tool_calling_llm\", END)\n",
    "graph = builder.compile()\n",
    "\n",
    "# View\n",
    "display(Image(graph.get_graph().draw_mermaid_png()))"
   ]
  },
  {
   "cell_type": "code",
   "execution_count": 13,
   "metadata": {},
   "outputs": [
    {
     "name": "stdout",
     "output_type": "stream",
     "text": [
      "================================\u001b[1m Human Message \u001b[0m=================================\n",
      "Name: Ankit\n",
      "\n",
      "Hello my name is Akit\n",
      "==================================\u001b[1m Ai Message \u001b[0m==================================\n",
      "\n",
      "Hello Akit! Nice to meet you. How can I assist you today?\n"
     ]
    }
   ],
   "source": [
    "messages=graph.invoke({\"messages\":HumanMessage(content=\"Hello my name is Akit\", name=\"Ankit\")})\n",
    "for m in messages['messages']:\n",
    "    m.pretty_print()"
   ]
  },
  {
   "cell_type": "code",
   "execution_count": 14,
   "metadata": {},
   "outputs": [
    {
     "name": "stdout",
     "output_type": "stream",
     "text": [
      "================================\u001b[1m Human Message \u001b[0m=================================\n",
      "\n",
      "What is 2 plus 3\n",
      "==================================\u001b[1m Ai Message \u001b[0m==================================\n",
      "Tool Calls:\n",
      "  add (call_zjz8)\n",
      " Call ID: call_zjz8\n",
      "  Args:\n",
      "    a: 2\n",
      "    b: 3\n"
     ]
    }
   ],
   "source": [
    "messages=graph.invoke({\"messages\":HumanMessage(content=\"What is 2 plus 3\")})\n",
    "for m in messages['messages']:\n",
    "    m.pretty_print()"
   ]
  },
  {
   "cell_type": "code",
   "execution_count": 16,
   "metadata": {},
   "outputs": [
    {
     "name": "stdout",
     "output_type": "stream",
     "text": [
      "================================\u001b[1m Human Message \u001b[0m=================================\n",
      "\n",
      "What is 3 minus 2\n",
      "==================================\u001b[1m Ai Message \u001b[0m==================================\n",
      "Tool Calls:\n",
      "  add (call_cs6q)\n",
      " Call ID: call_cs6q\n",
      "  Args:\n",
      "    a: 3\n",
      "    b: -2\n"
     ]
    }
   ],
   "source": [
    "messages=graph.invoke({\"messages\":HumanMessage(content=\"What is 3 minus 2\")})\n",
    "for m in messages['messages']:\n",
    "    m.pretty_print()"
   ]
  },
  {
   "cell_type": "code",
   "execution_count": 17,
   "metadata": {},
   "outputs": [],
   "source": [
    "os.environ[\"OPENAI_API_KEY\"]=os.getenv(\"OPENAI_API_KEY\")"
   ]
  },
  {
   "cell_type": "code",
   "execution_count": 18,
   "metadata": {},
   "outputs": [],
   "source": [
    "from langchain_openai import ChatOpenAI\n",
    "\n",
    "def multiply(a: int, b: int) -> int:\n",
    "    \"\"\"Multiply a and b.\n",
    "\n",
    "    Args:\n",
    "        a: first int\n",
    "        b: second int\n",
    "    \"\"\"\n",
    "    return a * b"
   ]
  },
  {
   "cell_type": "markdown",
   "metadata": {},
   "source": [
    "### Tools\n",
    "Tools are useful whenever you want a model to interact with external systems.\n",
    "\n",
    "External systems (e.g., APIs) often require a particular input schema or payload, rather than natural language.\n",
    "\n",
    "When we bind an API, for example, as a tool we given the model awareness of the required input schema.\n",
    "\n",
    "The model will choose to call a tool based upon the natural language input from the user.\n",
    "\n",
    "And, it will return an output that adheres to the tool's schema.\n",
    "\n",
    "Many LLM providers support tool calling and tool calling interface in LangChain is simple.\n",
    "\n",
    "You can simply pass any Python function into ChatModel.bind_tools(function)."
   ]
  },
  {
   "cell_type": "code",
   "execution_count": 19,
   "metadata": {},
   "outputs": [
    {
     "data": {
      "text/plain": [
       "AIMessage(content='Hello! How can I assist you today?', additional_kwargs={'refusal': None}, response_metadata={'token_usage': {'completion_tokens': 9, 'prompt_tokens': 8, 'total_tokens': 17, 'completion_tokens_details': {'accepted_prediction_tokens': 0, 'audio_tokens': 0, 'reasoning_tokens': 0, 'rejected_prediction_tokens': 0}, 'prompt_tokens_details': {'audio_tokens': 0, 'cached_tokens': 0}}, 'model_name': 'gpt-4o-2024-08-06', 'system_fingerprint': 'fp_90122d973c', 'id': 'chatcmpl-BYz536rqI9bZgIEJMJFPibJWLCBkT', 'service_tier': 'default', 'finish_reason': 'stop', 'logprobs': None}, id='run--d9534022-5753-49e4-89f6-61cf97cd5cb3-0', usage_metadata={'input_tokens': 8, 'output_tokens': 9, 'total_tokens': 17, 'input_token_details': {'audio': 0, 'cache_read': 0}, 'output_token_details': {'audio': 0, 'reasoning': 0}})"
      ]
     },
     "execution_count": 19,
     "metadata": {},
     "output_type": "execute_result"
    }
   ],
   "source": [
    "llm = ChatOpenAI(model=\"gpt-4o\")\n",
    "result=llm.invoke(\"Hello\")\n",
    "result"
   ]
  },
  {
   "cell_type": "code",
   "execution_count": 20,
   "metadata": {},
   "outputs": [],
   "source": [
    "llm_with_tools = llm.bind_tools([multiply,add])"
   ]
  },
  {
   "cell_type": "code",
   "execution_count": 21,
   "metadata": {},
   "outputs": [],
   "source": [
    "from IPython.display import Image, display\n",
    "from langgraph.graph import StateGraph, START, END\n",
    "from langgraph.graph import MessagesState\n",
    "\n",
    "\n"
   ]
  },
  {
   "cell_type": "code",
   "execution_count": 22,
   "metadata": {},
   "outputs": [],
   "source": [
    "from langgraph.prebuilt import ToolNode\n",
    "from langgraph.prebuilt import tools_condition"
   ]
  },
  {
   "cell_type": "code",
   "execution_count": 23,
   "metadata": {},
   "outputs": [
    {
     "data": {
      "image/png": "[encoded data removed]",
      "text/plain": [
       "<IPython.core.display.Image object>"
      ]
     },
     "metadata": {},
     "output_type": "display_data"
    }
   ],
   "source": [
    "# Node\n",
    "def tool_calling_llm(state: MessagesState):\n",
    "    return {\"messages\": [llm_with_tools.invoke(state[\"messages\"])]}\n",
    "\n",
    "# Build graph\n",
    "builder = StateGraph(MessagesState)\n",
    "builder.add_node(\"tool_calling_llm\", tool_calling_llm)\n",
    "builder.add_node(\"tools\", ToolNode([multiply,add]))\n",
    "\n",
    "builder.add_edge(START, \"tool_calling_llm\")\n",
    "builder.add_conditional_edges(\n",
    "    \"tool_calling_llm\",\n",
    "    # If the latest message (result) from assistant is a tool call -> tools_condition routes to tools\n",
    "    # If the latest message (result) from assistant is a not a tool call -> tools_condition routes to END\n",
    "    tools_condition,\n",
    ")\n",
    "builder.add_edge(\"tools\", END)\n",
    "#builder.add_edge(\"tool2\", END)\n",
    "graph = builder.compile()\n",
    "\n",
    "# View\n",
    "display(Image(graph.get_graph().draw_mermaid_png()))"
   ]
  },
  {
   "cell_type": "code",
   "execution_count": 25,
   "metadata": {},
   "outputs": [
    {
     "name": "stdout",
     "output_type": "stream",
     "text": [
      "================================\u001b[1m Human Message \u001b[0m=================================\n",
      "Name: Ankit\n",
      "\n",
      "Add 3 and 4. Multiply the output by 2 and add 5.\n",
      "==================================\u001b[1m Ai Message \u001b[0m==================================\n",
      "Tool Calls:\n",
      "  add (call_jtPjKGzGTyfslAf3FizfnCfU)\n",
      " Call ID: call_jtPjKGzGTyfslAf3FizfnCfU\n",
      "  Args:\n",
      "    a: 3\n",
      "    b: 4\n",
      "=================================\u001b[1m Tool Message \u001b[0m=================================\n",
      "Name: add\n",
      "\n",
      "7\n"
     ]
    }
   ],
   "source": [
    "from langchain_core.messages import HumanMessage\n",
    "messages = [HumanMessage(content=\"Add 3 and 4. Multiply the output by 2 and add 5.\", name=\"Ankit\")]\n",
    "messages = graph.invoke({\"messages\": messages})\n",
    "for m in messages['messages']:\n",
    "    m.pretty_print()"
   ]
  },
  {
   "cell_type": "code",
   "execution_count": null,
   "metadata": {},
   "outputs": [],
   "source": []
  }
 ],
 "metadata": {
  "kernelspec": {
   "display_name": "Python 3",
   "language": "python",
   "name": "python3"
  },
  "language_info": {
   "codemirror_mode": {
    "name": "ipython",
    "version": 3
   },
   "file_extension": ".py",
   "mimetype": "text/x-python",
   "name": "python",
   "nbconvert_exporter": "python",
   "pygments_lexer": "ipython3",
   "version": "3.12.9"
  }
 },
 "nbformat": 4,
 "nbformat_minor": 2
}
